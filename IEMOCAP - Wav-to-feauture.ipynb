{
 "cells": [
  {
   "cell_type": "markdown",
   "metadata": {},
   "source": [
    "# Extract Audio Feautures\r\n"
   ]
  },
  {
   "cell_type": "code",
   "execution_count": 5,
   "metadata": {},
   "outputs": [],
   "source": [
    "import time\r\n",
    "import pickle\r\n",
    "\r\n",
    "import numpy as np\r\n",
    "import pandas as pd\r\n",
    "\r\n",
    "import audiofile\r\n",
    "import opensmile\r\n",
    "from util import *\r\n"
   ]
  },
  {
   "cell_type": "code",
   "execution_count": 2,
   "metadata": {},
   "outputs": [],
   "source": [
    "pd.set_option('display.max_columns', 6)\r\n"
   ]
  },
  {
   "cell_type": "code",
   "execution_count": 3,
   "metadata": {},
   "outputs": [],
   "source": [
    "def configure_openSmile(**kwargs):\r\n",
    "    '''\r\n",
    "    Configure OpenSmile.\r\n",
    "\r\n",
    "        Parameters:\r\n",
    "            folder_list (list): A list of folder paths to extract features\r\n",
    "\r\n",
    "        Returns:\r\n",
    "            smile (obj): Returns configured smile object\r\n",
    "    '''\r\n",
    "    \r\n",
    "    smile = opensmile.Smile(\r\n",
    "        feature_set=opensmile.FeatureSet.ComParE_2016,\r\n",
    "        # feature_level=opensmile.FeatureLevel.Functionals,\r\n",
    "        feature_level=opensmile.FeatureLevel.LowLevelDescriptors,\r\n",
    "        loglevel=4,\r\n",
    "        logfile='smile.log',\r\n",
    "        verbose=True,\r\n",
    "\r\n",
    "    )\r\n",
    "    return smile\r\n"
   ]
  },
  {
   "cell_type": "code",
   "execution_count": 4,
   "metadata": {},
   "outputs": [],
   "source": [
    "def extract_feautre(folder_list):\r\n",
    "    '''\r\n",
    "    Extracts audio feature for each file in file path.\r\n",
    "\r\n",
    "        Parameters:\r\n",
    "            folder_list (list): A list of filepaths to extract audio features\r\n",
    "\r\n",
    "        Returns:\r\n",
    "            features (Dataframe): Extracted features from USC-Iemocap database\r\n",
    "    '''\r\n",
    "    \r\n",
    "    smile = configure_openSmile()\r\n",
    "    try:\r\n",
    "        features = smile.process_files(folder_list)\r\n",
    "        return features\r\n",
    "\r\n",
    "    except FileNotFoundError as e:\r\n",
    "        print(f'Error --> {e}')\r\n"
   ]
  },
  {
   "cell_type": "code",
   "execution_count": null,
   "metadata": {},
   "outputs": [],
   "source": [
    "list_files = []\r\n",
    "\r\n",
    "for x in range(1, 6):\r\n",
    "    sess_title = 'Session' + str(x)\r\n",
    "\r\n",
    "    path = f'./data/raw/IEMOCAP_full_release/{sess_title}/sentences/wav'\r\n",
    "\r\n",
    "    file_search(path, list_files)\r\n",
    "    list_files = sorted(list_files)\r\n",
    "\r\n",
    "    print(f\"{sess_title}, # Num of files: {len(list_files)}\")\r\n",
    "\r\n",
    "# features = extract_feautre(list_files)\r\n",
    "# features.to_pickle('D:/feat.pk')\r\n"
   ]
  },
  {
   "cell_type": "markdown",
   "metadata": {},
   "source": [
    "## Load Pickled feature"
   ]
  },
  {
   "cell_type": "code",
   "execution_count": 6,
   "metadata": {},
   "outputs": [],
   "source": [
    "with open('D:/feat.pk', 'rb') as pickle_file:\r\n",
    "    data = pickle.load(pickle_file)\r\n"
   ]
  },
  {
   "cell_type": "code",
   "execution_count": 7,
   "metadata": {},
   "outputs": [
    {
     "data": {
      "text/html": "<div>\n<style scoped>\n    .dataframe tbody tr th:only-of-type {\n        vertical-align: middle;\n    }\n\n    .dataframe tbody tr th {\n        vertical-align: top;\n    }\n\n    .dataframe thead th {\n        text-align: right;\n    }\n</style>\n<table border=\"1\" class=\"dataframe\">\n  <thead>\n    <tr style=\"text-align: right;\">\n      <th></th>\n      <th></th>\n      <th></th>\n      <th>F0final_sma</th>\n      <th>voicingFinalUnclipped_sma</th>\n      <th>jitterLocal_sma</th>\n      <th>...</th>\n      <th>mfcc_sma[12]</th>\n      <th>mfcc_sma[13]</th>\n      <th>mfcc_sma[14]</th>\n    </tr>\n    <tr>\n      <th>file</th>\n      <th>start</th>\n      <th>end</th>\n      <th></th>\n      <th></th>\n      <th></th>\n      <th></th>\n      <th></th>\n      <th></th>\n      <th></th>\n    </tr>\n  </thead>\n  <tbody>\n    <tr>\n      <th rowspan=\"5\" valign=\"top\">./data/raw/IEMOCAP_full_release/Session1/sentences/wav\\Ses01F_impro01\\Ses01F_impro01_F000.wav</th>\n      <th>00:00:00</th>\n      <th>00:00:00.060000</th>\n      <td>0.000000</td>\n      <td>0.617895</td>\n      <td>0.0</td>\n      <td>...</td>\n      <td>3.107538</td>\n      <td>20.465704</td>\n      <td>7.123697</td>\n    </tr>\n    <tr>\n      <th>00:00:00.010000</th>\n      <th>00:00:00.070000</th>\n      <td>0.000000</td>\n      <td>0.621465</td>\n      <td>0.0</td>\n      <td>...</td>\n      <td>-4.711551</td>\n      <td>15.682807</td>\n      <td>6.299347</td>\n    </tr>\n    <tr>\n      <th>00:00:00.020000</th>\n      <th>00:00:00.080000</th>\n      <td>0.000000</td>\n      <td>0.625829</td>\n      <td>0.0</td>\n      <td>...</td>\n      <td>-9.611413</td>\n      <td>10.285623</td>\n      <td>4.734458</td>\n    </tr>\n    <tr>\n      <th>00:00:00.030000</th>\n      <th>00:00:00.090000</th>\n      <td>0.000000</td>\n      <td>0.625295</td>\n      <td>0.0</td>\n      <td>...</td>\n      <td>-12.417287</td>\n      <td>3.800602</td>\n      <td>1.058139</td>\n    </tr>\n    <tr>\n      <th>00:00:00.040000</th>\n      <th>00:00:00.100000</th>\n      <td>0.000000</td>\n      <td>0.603681</td>\n      <td>0.0</td>\n      <td>...</td>\n      <td>-6.996481</td>\n      <td>3.401203</td>\n      <td>0.124158</td>\n    </tr>\n    <tr>\n      <th>...</th>\n      <th>...</th>\n      <th>...</th>\n      <td>...</td>\n      <td>...</td>\n      <td>...</td>\n      <td>...</td>\n      <td>...</td>\n      <td>...</td>\n      <td>...</td>\n    </tr>\n    <tr>\n      <th rowspan=\"5\" valign=\"top\">./data/raw/IEMOCAP_full_release/Session5/sentences/wav\\Ses05M_script03_2\\Ses05M_script03_2_M045.wav</th>\n      <th>00:00:05.910000</th>\n      <th>00:00:05.970000</th>\n      <td>0.000000</td>\n      <td>0.697571</td>\n      <td>0.0</td>\n      <td>...</td>\n      <td>-9.118219</td>\n      <td>3.183457</td>\n      <td>-5.870209</td>\n    </tr>\n    <tr>\n      <th>00:00:05.920000</th>\n      <th>00:00:05.980000</th>\n      <td>0.000000</td>\n      <td>0.698453</td>\n      <td>0.0</td>\n      <td>...</td>\n      <td>-6.770773</td>\n      <td>2.652075</td>\n      <td>-7.998447</td>\n    </tr>\n    <tr>\n      <th>00:00:05.930000</th>\n      <th>00:00:05.990000</th>\n      <td>74.967804</td>\n      <td>0.702761</td>\n      <td>0.0</td>\n      <td>...</td>\n      <td>-7.971638</td>\n      <td>1.643756</td>\n      <td>-3.493120</td>\n    </tr>\n    <tr>\n      <th rowspan=\"2\" valign=\"top\">00:00:05.940000</th>\n      <th>00:00:06</th>\n      <td>74.921844</td>\n      <td>0.705294</td>\n      <td>0.0</td>\n      <td>...</td>\n      <td>-6.649663</td>\n      <td>-1.581439</td>\n      <td>-5.631538</td>\n    </tr>\n    <tr>\n      <th>00:00:06.009937</th>\n      <td>74.829926</td>\n      <td>0.706234</td>\n      <td>0.0</td>\n      <td>...</td>\n      <td>-9.785259</td>\n      <td>-1.510280</td>\n      <td>0.518285</td>\n    </tr>\n  </tbody>\n</table>\n<p>4432360 rows × 65 columns</p>\n</div>",
      "text/plain": "                                                                                    F0final_sma  \\\nfile                                               start           end                            \n./data/raw/IEMOCAP_full_release/Session1/senten... 00:00:00        00:00:00.060000     0.000000   \n                                                   00:00:00.010000 00:00:00.070000     0.000000   \n                                                   00:00:00.020000 00:00:00.080000     0.000000   \n                                                   00:00:00.030000 00:00:00.090000     0.000000   \n                                                   00:00:00.040000 00:00:00.100000     0.000000   \n...                                                                                         ...   \n./data/raw/IEMOCAP_full_release/Session5/senten... 00:00:05.910000 00:00:05.970000     0.000000   \n                                                   00:00:05.920000 00:00:05.980000     0.000000   \n                                                   00:00:05.930000 00:00:05.990000    74.967804   \n                                                   00:00:05.940000 00:00:06           74.921844   \n                                                                   00:00:06.009937    74.829926   \n\n                                                                                    voicingFinalUnclipped_sma  \\\nfile                                               start           end                                          \n./data/raw/IEMOCAP_full_release/Session1/senten... 00:00:00        00:00:00.060000                   0.617895   \n                                                   00:00:00.010000 00:00:00.070000                   0.621465   \n                                                   00:00:00.020000 00:00:00.080000                   0.625829   \n                                                   00:00:00.030000 00:00:00.090000                   0.625295   \n                                                   00:00:00.040000 00:00:00.100000                   0.603681   \n...                                                                                                       ...   \n./data/raw/IEMOCAP_full_release/Session5/senten... 00:00:05.910000 00:00:05.970000                   0.697571   \n                                                   00:00:05.920000 00:00:05.980000                   0.698453   \n                                                   00:00:05.930000 00:00:05.990000                   0.702761   \n                                                   00:00:05.940000 00:00:06                          0.705294   \n                                                                   00:00:06.009937                   0.706234   \n\n                                                                                    jitterLocal_sma  \\\nfile                                               start           end                                \n./data/raw/IEMOCAP_full_release/Session1/senten... 00:00:00        00:00:00.060000              0.0   \n                                                   00:00:00.010000 00:00:00.070000              0.0   \n                                                   00:00:00.020000 00:00:00.080000              0.0   \n                                                   00:00:00.030000 00:00:00.090000              0.0   \n                                                   00:00:00.040000 00:00:00.100000              0.0   \n...                                                                                             ...   \n./data/raw/IEMOCAP_full_release/Session5/senten... 00:00:05.910000 00:00:05.970000              0.0   \n                                                   00:00:05.920000 00:00:05.980000              0.0   \n                                                   00:00:05.930000 00:00:05.990000              0.0   \n                                                   00:00:05.940000 00:00:06                     0.0   \n                                                                   00:00:06.009937              0.0   \n\n                                                                                    ...  \\\nfile                                               start           end              ...   \n./data/raw/IEMOCAP_full_release/Session1/senten... 00:00:00        00:00:00.060000  ...   \n                                                   00:00:00.010000 00:00:00.070000  ...   \n                                                   00:00:00.020000 00:00:00.080000  ...   \n                                                   00:00:00.030000 00:00:00.090000  ...   \n                                                   00:00:00.040000 00:00:00.100000  ...   \n...                                                                                 ...   \n./data/raw/IEMOCAP_full_release/Session5/senten... 00:00:05.910000 00:00:05.970000  ...   \n                                                   00:00:05.920000 00:00:05.980000  ...   \n                                                   00:00:05.930000 00:00:05.990000  ...   \n                                                   00:00:05.940000 00:00:06         ...   \n                                                                   00:00:06.009937  ...   \n\n                                                                                    mfcc_sma[12]  \\\nfile                                               start           end                             \n./data/raw/IEMOCAP_full_release/Session1/senten... 00:00:00        00:00:00.060000      3.107538   \n                                                   00:00:00.010000 00:00:00.070000     -4.711551   \n                                                   00:00:00.020000 00:00:00.080000     -9.611413   \n                                                   00:00:00.030000 00:00:00.090000    -12.417287   \n                                                   00:00:00.040000 00:00:00.100000     -6.996481   \n...                                                                                          ...   \n./data/raw/IEMOCAP_full_release/Session5/senten... 00:00:05.910000 00:00:05.970000     -9.118219   \n                                                   00:00:05.920000 00:00:05.980000     -6.770773   \n                                                   00:00:05.930000 00:00:05.990000     -7.971638   \n                                                   00:00:05.940000 00:00:06            -6.649663   \n                                                                   00:00:06.009937     -9.785259   \n\n                                                                                    mfcc_sma[13]  \\\nfile                                               start           end                             \n./data/raw/IEMOCAP_full_release/Session1/senten... 00:00:00        00:00:00.060000     20.465704   \n                                                   00:00:00.010000 00:00:00.070000     15.682807   \n                                                   00:00:00.020000 00:00:00.080000     10.285623   \n                                                   00:00:00.030000 00:00:00.090000      3.800602   \n                                                   00:00:00.040000 00:00:00.100000      3.401203   \n...                                                                                          ...   \n./data/raw/IEMOCAP_full_release/Session5/senten... 00:00:05.910000 00:00:05.970000      3.183457   \n                                                   00:00:05.920000 00:00:05.980000      2.652075   \n                                                   00:00:05.930000 00:00:05.990000      1.643756   \n                                                   00:00:05.940000 00:00:06            -1.581439   \n                                                                   00:00:06.009937     -1.510280   \n\n                                                                                    mfcc_sma[14]  \nfile                                               start           end                            \n./data/raw/IEMOCAP_full_release/Session1/senten... 00:00:00        00:00:00.060000      7.123697  \n                                                   00:00:00.010000 00:00:00.070000      6.299347  \n                                                   00:00:00.020000 00:00:00.080000      4.734458  \n                                                   00:00:00.030000 00:00:00.090000      1.058139  \n                                                   00:00:00.040000 00:00:00.100000      0.124158  \n...                                                                                          ...  \n./data/raw/IEMOCAP_full_release/Session5/senten... 00:00:05.910000 00:00:05.970000     -5.870209  \n                                                   00:00:05.920000 00:00:05.980000     -7.998447  \n                                                   00:00:05.930000 00:00:05.990000     -3.493120  \n                                                   00:00:05.940000 00:00:06            -5.631538  \n                                                                   00:00:06.009937      0.518285  \n\n[4432360 rows x 65 columns]"
     },
     "execution_count": 7,
     "metadata": {},
     "output_type": "execute_result"
    }
   ],
   "source": [
    "data"
   ]
  },
  {
   "cell_type": "code",
   "execution_count": null,
   "metadata": {},
   "outputs": [],
   "source": []
  }
 ],
 "metadata": {
  "kernelspec": {
   "display_name": "Python 3.7.6 64-bit ('base': conda)",
   "name": "python376jvsc74a57bd0c5e48f84046969b800ff52f6d80523bcd1ca3fb1a99f1449e4197bf6c73dc096"
  },
  "language_info": {
   "codemirror_mode": {
    "name": "ipython",
    "version": 3
   },
   "file_extension": ".py",
   "mimetype": "text/x-python",
   "name": "python",
   "nbconvert_exporter": "python",
   "pygments_lexer": "ipython3",
   "version": "3.7.6"
  },
  "orig_nbformat": 2
 },
 "nbformat": 4,
 "nbformat_minor": 2
}