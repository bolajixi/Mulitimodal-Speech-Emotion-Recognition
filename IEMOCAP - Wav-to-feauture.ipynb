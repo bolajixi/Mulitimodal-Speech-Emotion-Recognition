{
 "cells": [
  {
   "cell_type": "markdown",
   "metadata": {},
   "source": [
    "# Extract Audio Feautures\n"
   ]
  },
  {
   "cell_type": "code",
   "execution_count": null,
   "metadata": {},
   "outputs": [],
   "source": [
    "import sys\r\n",
    "import pickle\r\n",
    "\r\n",
    "import scipy.stats as stats\r\n",
    "import numpy as np\r\n",
    "import pandas as pd\r\n",
    "import tensorflow as tf\r\n",
    "from tensorflow.keras.preprocessing.sequence import pad_sequences\r\n",
    "\r\n",
    "\r\n",
    "import audiofile\r\n",
    "import opensmile\r\n",
    "from util import *\r\n"
   ]
  },
  {
   "cell_type": "code",
   "execution_count": 2,
   "metadata": {},
   "outputs": [],
   "source": [
    "pd.set_option('display.max_columns', None)\n"
   ]
  },
  {
   "cell_type": "code",
   "execution_count": 3,
   "metadata": {},
   "outputs": [],
   "source": [
    "def configure_openSmile(**kwargs):\r\n",
    "    '''\r\n",
    "    Configure OpenSmile.\r\n",
    "\r\n",
    "        Parameters:\r\n",
    "            folder_list (list): A list of folder paths to extract features\r\n",
    "\r\n",
    "        Returns:\r\n",
    "            smile (obj): Returns configured smile object\r\n",
    "    '''\r\n",
    "    \r\n",
    "    smile = opensmile.Smile(\r\n",
    "        feature_set=opensmile.FeatureSet.ComParE_2016,\r\n",
    "        feature_level=opensmile.FeatureLevel.LowLevelDescriptors,\r\n",
    "        loglevel=4,\r\n",
    "        logfile='smile.log',\r\n",
    "        verbose=True,\r\n",
    "\r\n",
    "    )\r\n",
    "    return smile\r\n"
   ]
  },
  {
   "cell_type": "code",
   "execution_count": 4,
   "metadata": {},
   "outputs": [],
   "source": [
    "def extract_feautre(folder_list):\n",
    "    '''\n",
    "    Extracts audio feature for each file in file path.\n",
    "\n",
    "        Parameters:\n",
    "            folder_list (list): A list of filepaths to extract audio features\n",
    "\n",
    "        Returns:\n",
    "            features (Dataframe): Extracted features from USC-Iemocap database\n",
    "    '''\n",
    "    \n",
    "    smile = configure_openSmile()\n",
    "    try:\n",
    "        features = smile.process_files(folder_list)\n",
    "        return features\n",
    "\n",
    "    except FileNotFoundError as e:\n",
    "        print(f'Error --> {e}')\n"
   ]
  },
  {
   "cell_type": "code",
   "execution_count": 5,
   "metadata": {},
   "outputs": [],
   "source": [
    "def z_score(dataframe, inplace=False):\r\n",
    "    '''\r\n",
    "    Apply z-score (standardization) to the columns of the database.\r\n",
    "\r\n",
    "        Parameters:\r\n",
    "            data: Data to apply z-score\r\n",
    "            inplace (bool): Modify the dataframe inplace. Default (False)\r\n",
    "\r\n",
    "        Returns:\r\n",
    "            dataframe: Z-scores applied on each columns of dataframe\r\n",
    "    '''\r\n",
    "\r\n",
    "    if not inplace:\r\n",
    "        dataframe = dataframe.copy()\r\n",
    "\r\n",
    "    # apply the z-score method\r\n",
    "    for column in dataframe.columns:\r\n",
    "        dataframe[column] = (dataframe[column] - dataframe[column].mean()\r\n",
    "                             ) / dataframe[column].std()\r\n",
    "\r\n",
    "    print('Finished standardizing (z-score) data')\r\n",
    "    return dataframe\r\n"
   ]
  },
  {
   "cell_type": "code",
   "execution_count": 6,
   "metadata": {},
   "outputs": [],
   "source": [
    "def pad_signal_data(signal_sequence, dtype='int32', padding='pre'):\r\n",
    "    '''\r\n",
    "    Pad each signal with zeros for eqaul data dimenstions.\r\n",
    "\r\n",
    "        Parameters:\r\n",
    "            signal_sequence (List): Signal list to be padded\r\n",
    "            padding (string):  ('pre' or 'post') pad either before or after each sequence\r\n",
    "\r\n",
    "        Returns:\r\n",
    "            padded (DataFrame): Padded dataframe\r\n",
    "    '''\r\n",
    "\r\n",
    "    padded = pad_sequences(signal_sequence, dtype=dtype, padding=padding)\r\n",
    "\r\n",
    "    print('Finished padding data')\r\n",
    "    return padded\r\n"
   ]
  },
  {
   "cell_type": "code",
   "execution_count": 6,
   "metadata": {},
   "outputs": [],
   "source": [
    "full_ids = []\r\n",
    "with open('./data/processed/IEMOCAP/processed_ids.txt') as f:\r\n",
    "    full_ids = f.readlines()\r\n",
    "full_ids = [x.strip() for x in full_ids]\r\n"
   ]
  },
  {
   "cell_type": "code",
   "execution_count": 7,
   "metadata": {},
   "outputs": [
    {
     "name": "stdout",
     "output_type": "stream",
     "text": [
      "Session1, # Num of files: 1819\n",
      "Session2, # Num of files: 3630\n",
      "Session3, # Num of files: 5766\n",
      "Session4, # Num of files: 7869\n",
      "Session5, # Num of files: 10039\n"
     ]
    }
   ],
   "source": [
    "list_files = []\r\n",
    "\r\n",
    "for x in range(1, 6):\r\n",
    "    sess_title = 'Session' + str(x)\r\n",
    "\r\n",
    "    path = f'./data/raw/IEMOCAP_full_release/{sess_title}/sentences/wav'\r\n",
    "\r\n",
    "    file_search(path, list_files)\r\n",
    "    list_files = sorted(list_files)\r\n",
    "\r\n",
    "    print(f\"{sess_title}, # Num of files: {len(list_files)}\")\r\n"
   ]
  },
  {
   "cell_type": "markdown",
   "metadata": {},
   "source": [
    "## Get list of filenames in category, (Angry, Happy, Sad, Neutral)"
   ]
  },
  {
   "cell_type": "code",
   "execution_count": 8,
   "metadata": {},
   "outputs": [],
   "source": [
    "full_path = []\r\n",
    "\r\n",
    "for file_ in full_ids:\r\n",
    "    for file2 in list_files:\r\n",
    "        if file_+'.wav' == file2.split('\\\\')[-1]:\r\n",
    "            full_path.append(file2)\r\n",
    "            break\r\n"
   ]
  },
  {
   "cell_type": "code",
   "execution_count": 9,
   "metadata": {},
   "outputs": [
    {
     "name": "stdout",
     "output_type": "stream",
     "text": [
      "5531\n"
     ]
    }
   ],
   "source": [
    "print(len(full_path))"
   ]
  },
  {
   "cell_type": "markdown",
   "metadata": {},
   "source": [
    "## Extract four category feature"
   ]
  },
  {
   "cell_type": "code",
   "execution_count": null,
   "metadata": {},
   "outputs": [],
   "source": [
    "# features = extract_feautre(full_path)\r\n",
    "# features.to_pickle('D:/feat.pk')"
   ]
  },
  {
   "cell_type": "markdown",
   "metadata": {},
   "source": [
    "## Post-processing: Load Pickled feature"
   ]
  },
  {
   "cell_type": "code",
   "execution_count": 10,
   "metadata": {},
   "outputs": [],
   "source": [
    "with open('D:/feat.pk', 'rb') as pickle_file:\n",
    "    data = pickle.load(pickle_file)\n"
   ]
  },
  {
   "cell_type": "code",
   "execution_count": 12,
   "metadata": {},
   "outputs": [
    {
     "name": "stdout",
     "output_type": "stream",
     "text": [
      "5531\n"
     ]
    }
   ],
   "source": [
    "feature = []\r\n",
    "\r\n",
    "for idx, file in enumerate(full_path):\r\n",
    "    feature.append(data.loc[file].values.tolist())\r\n",
    "    # feature.append(data.loc[file].to_numpy())\r\n",
    "\r\n",
    "print(len(feature))\r\n"
   ]
  },
  {
   "cell_type": "code",
   "execution_count": 13,
   "metadata": {},
   "outputs": [
    {
     "name": "stdout",
     "output_type": "stream",
     "text": [
      "Finished padding data\n"
     ]
    }
   ],
   "source": [
    "padded_data = pad_signal_data(feature, dtype='float64', padding='post')"
   ]
  },
  {
   "cell_type": "code",
   "execution_count": 14,
   "metadata": {},
   "outputs": [
    {
     "name": "stdout",
     "output_type": "stream",
     "text": [
      "(5531, 3409, 65)\n"
     ]
    }
   ],
   "source": [
    "print(padded_data.shape)"
   ]
  },
  {
   "cell_type": "code",
   "execution_count": 25,
   "metadata": {},
   "outputs": [],
   "source": [
    "np.save('padded_features.npy', padded_data)"
   ]
  },
  {
   "cell_type": "code",
   "execution_count": 7,
   "metadata": {},
   "outputs": [],
   "source": [
    "pad_dat = np.load('padded_features.npy')"
   ]
  },
  {
   "cell_type": "code",
   "execution_count": null,
   "metadata": {},
   "outputs": [],
   "source": [
    "data_norm = z_score(pad_dat)\r\n"
   ]
  },
  {
   "cell_type": "code",
   "execution_count": 13,
   "metadata": {},
   "outputs": [],
   "source": [
    "label_data = []\r\n",
    "with open('./data/processed/IEMOCAP/processed_label.txt') as f:\r\n",
    "    label_data = f.readlines()\r\n",
    "\r\n",
    "with open('./data/processed/IEMOCAP/FC_label.txt', 'w') as f:\r\n",
    "    for i, label in enumerate(full_cat_label):\r\n",
    "        if label != '-1':\r\n",
    "            f.write(label_data[i])\r\n"
   ]
  },
  {
   "cell_type": "markdown",
   "metadata": {},
   "source": [
    "## lll"
   ]
  },
  {
   "cell_type": "code",
   "execution_count": null,
   "metadata": {},
   "outputs": [],
   "source": [
    "with open('padded_features.pkl', 'wb') as f:\r\n",
    "    pickle.dump(padded_data, f)\r\n"
   ]
  }
 ],
 "metadata": {
  "interpreter": {
   "hash": "9ce43836c8d3287a06e199a1efd6974587c1d8c7cdf961feda0708cd09e2869c"
  },
  "kernelspec": {
   "display_name": "Python 3.8.3 64-bit",
   "name": "python3"
  },
  "language_info": {
   "name": "python",
   "version": ""
  },
  "orig_nbformat": 3
 },
 "nbformat": 4,
 "nbformat_minor": 2
}