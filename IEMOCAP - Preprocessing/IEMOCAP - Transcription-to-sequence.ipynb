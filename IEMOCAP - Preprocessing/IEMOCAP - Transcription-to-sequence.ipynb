{
 "cells": [
  {
   "cell_type": "markdown",
   "metadata": {},
   "source": [
    "# Get vocab from transcription"
   ]
  },
  {
   "cell_type": "markdown",
   "metadata": {},
   "source": [
    "## Create nocabulary from transcription"
   ]
  },
  {
   "cell_type": "code",
   "execution_count": 2,
   "metadata": {},
   "outputs": [],
   "source": [
    "import numpy as np\r\n",
    "import tensorflow as tf\r\n",
    "from tensorflow import keras\r\n",
    "from tensorflow.keras.preprocessing.text import Tokenizer\r\n",
    "from tensorflow.keras.preprocessing.sequence import pad_sequences\r\n",
    "\r\n",
    "from util import *\r\n"
   ]
  },
  {
   "cell_type": "code",
   "execution_count": 7,
   "metadata": {},
   "outputs": [],
   "source": [
    "full_ids = []\r\n",
    "with open('./data/processed/IEMOCAP/processed_ids.txt') as f:\r\n",
    "    full_ids = f.readlines()\r\n",
    "full_ids = [x.strip() for x in full_ids]\r\n"
   ]
  },
  {
   "cell_type": "code",
   "execution_count": 8,
   "metadata": {},
   "outputs": [
    {
     "name": "stdout",
     "output_type": "stream",
     "text": [
      "['Ses01F_impro01_F000', 'Ses01F_impro01_F001', 'Ses01F_impro01_F002', 'Ses01F_impro01_F005', 'Ses01F_impro01_F012', 'Ses01F_impro01_F014', 'Ses01F_impro01_M011', 'Ses01F_impro01_M013', 'Ses01F_impro02_F000', 'Ses01F_impro02_F001']\n"
     ]
    }
   ],
   "source": [
    "print(full_ids[:10])"
   ]
  },
  {
   "cell_type": "code",
   "execution_count": 9,
   "metadata": {},
   "outputs": [
    {
     "name": "stdout",
     "output_type": "stream",
     "text": [
      "5531\n"
     ]
    }
   ],
   "source": [
    "print(len(full_ids))"
   ]
  },
  {
   "cell_type": "code",
   "execution_count": 10,
   "metadata": {},
   "outputs": [],
   "source": [
    "sentences = []\r\n",
    "for line in csv_reader('./data/processed/IEMOCAP/processed_tran.csv'):\r\n",
    "    file_line = line.strip().split(',')\r\n",
    "\r\n",
    "    for idx, file_id in enumerate(full_ids):\r\n",
    "        if line != '\\n' and (file_id == file_line[0]):\r\n",
    "            sentences.append(file_line[1])\r\n",
    "            del full_ids[idx]\r\n",
    "            break\r\n"
   ]
  },
  {
   "cell_type": "code",
   "execution_count": 19,
   "metadata": {},
   "outputs": [
    {
     "name": "stdout",
     "output_type": "stream",
     "text": [
      "5531\n"
     ]
    }
   ],
   "source": [
    "print(len(sentences))"
   ]
  },
  {
   "cell_type": "code",
   "execution_count": 12,
   "metadata": {},
   "outputs": [
    {
     "name": "stdout",
     "output_type": "stream",
     "text": [
      "You're a wicked little vampire.  And I pray to God I never set eyes on you again as long as I live.\n"
     ]
    }
   ],
   "source": [
    "print(sentences[-1])"
   ]
  },
  {
   "cell_type": "code",
   "execution_count": 13,
   "metadata": {},
   "outputs": [],
   "source": [
    "tokenizer = Tokenizer(oov_token='<oov>')\r\n",
    "tokenizer.fit_on_texts(sentences)\r\n",
    "word_index = tokenizer.word_index\r\n",
    "\r\n",
    "sequences = tokenizer.texts_to_sequences(sentences)\r\n",
    "padded = pad_sequences(sequences, padding='post')\r\n"
   ]
  },
  {
   "cell_type": "code",
   "execution_count": 14,
   "metadata": {},
   "outputs": [
    {
     "name": "stdout",
     "output_type": "stream",
     "text": [
      "Number of words found --> 2269\n"
     ]
    }
   ],
   "source": [
    "print('Number of words found -->', len(word_index))"
   ]
  },
  {
   "cell_type": "code",
   "execution_count": 30,
   "metadata": {},
   "outputs": [
    {
     "name": "stdout",
     "output_type": "stream",
     "text": [
      "Padded Sequences:\n",
      "[[ 779   27    0 ...    0    0    0]\n",
      " [  15    0    0 ...    0    0    0]\n",
      " [  19   57    7 ...    0    0    0]\n",
      " ...\n",
      " [ 294   23    0 ...    0    0    0]\n",
      " [  24  148    3 ...    0    0    0]\n",
      " [  37    7 1403 ...    0    0    0]]\n"
     ]
    }
   ],
   "source": [
    "print('Padded Sequences:')\r\n",
    "print(padded)"
   ]
  },
  {
   "cell_type": "code",
   "execution_count": 31,
   "metadata": {},
   "outputs": [
    {
     "name": "stdout",
     "output_type": "stream",
     "text": [
      "(5531, 98)\n"
     ]
    }
   ],
   "source": [
    "print(padded.shape)"
   ]
  },
  {
   "cell_type": "markdown",
   "metadata": {},
   "source": [
    "## Save Text sequences"
   ]
  },
  {
   "cell_type": "code",
   "execution_count": 33,
   "metadata": {},
   "outputs": [],
   "source": [
    "np.save('D:/text_sequences.npy', padded)"
   ]
  },
  {
   "cell_type": "code",
   "execution_count": 3,
   "metadata": {},
   "outputs": [],
   "source": [
    "padded = np.load('D:/text_sequences.npy')\r\n"
   ]
  },
  {
   "cell_type": "code",
   "execution_count": 4,
   "metadata": {},
   "outputs": [
    {
     "data": {
      "text/plain": "array([[ 779,   27,    0, ...,    0,    0,    0],\n       [  15,    0,    0, ...,    0,    0,    0],\n       [  19,   57,    7, ...,    0,    0,    0],\n       ...,\n       [ 294,   23,    0, ...,    0,    0,    0],\n       [  24,  148,    3, ...,    0,    0,    0],\n       [  37,    7, 1403, ...,    0,    0,    0]])"
     },
     "execution_count": 4,
     "metadata": {},
     "output_type": "execute_result"
    }
   ],
   "source": [
    "padded"
   ]
  },
  {
   "cell_type": "code",
   "execution_count": 5,
   "metadata": {},
   "outputs": [
    {
     "data": {
      "text/plain": "(5531, 98)"
     },
     "execution_count": 5,
     "metadata": {},
     "output_type": "execute_result"
    }
   ],
   "source": [
    "padded.shape"
   ]
  }
 ],
 "metadata": {
  "kernelspec": {
   "display_name": "Python 3.7.6 64-bit ('base': conda)",
   "name": "python376jvsc74a57bd0c5e48f84046969b800ff52f6d80523bcd1ca3fb1a99f1449e4197bf6c73dc096"
  },
  "language_info": {
   "codemirror_mode": {
    "name": "ipython",
    "version": 3
   },
   "file_extension": ".py",
   "mimetype": "text/x-python",
   "name": "python",
   "nbconvert_exporter": "python",
   "pygments_lexer": "ipython3",
   "version": "3.7.6"
  },
  "orig_nbformat": 2
 },
 "nbformat": 4,
 "nbformat_minor": 2
}