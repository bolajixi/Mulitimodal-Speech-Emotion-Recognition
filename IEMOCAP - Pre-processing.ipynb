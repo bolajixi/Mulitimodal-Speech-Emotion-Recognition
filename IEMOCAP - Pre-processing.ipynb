{
 "cells": [
  {
   "cell_type": "markdown",
   "metadata": {},
   "source": [
    "# Process IEMOCAP"
   ]
  },
  {
   "cell_type": "markdown",
   "metadata": {},
   "source": [
    "## 1 - Extract Label Transcript"
   ]
  },
  {
   "cell_type": "code",
   "execution_count": 1,
   "metadata": {},
   "outputs": [],
   "source": [
    "import os\r\n",
    "import csv\r\n",
    "import sys\r\n",
    "import numpy as np\r\n",
    "from util import *"
   ]
  },
  {
   "cell_type": "code",
   "execution_count": 2,
   "metadata": {},
   "outputs": [
    {
     "name": "stdout",
     "output_type": "stream",
     "text": [
      "File path --> '../My Project/data/processed/IEMOCAP' already exists\n"
     ]
    }
   ],
   "source": [
    "create_folder('../My Project/data/processed/IEMOCAP')\r\n"
   ]
  },
  {
   "cell_type": "code",
   "execution_count": 3,
   "metadata": {},
   "outputs": [
    {
     "data": {
      "text/plain": "1"
     },
     "execution_count": 3,
     "metadata": {},
     "output_type": "execute_result"
    }
   ],
   "source": [
    "out_file = '../My Project/data/processed/IEMOCAP/processed_tran.csv'\r\n",
    "os.system('rm ' + out_file)  # Remove out file if it exists\r\n"
   ]
  },
  {
   "cell_type": "code",
   "execution_count": 4,
   "metadata": {},
   "outputs": [],
   "source": [
    "def extract_transcript(list_files, out_file):\r\n",
    "    '''\r\n",
    "    Extracts transcript for each uniques session.\r\n",
    "\r\n",
    "        Parameters:\r\n",
    "            list_files (list): A list of files (with fullnames) to process transcript\r\n",
    "            out_file (string): Out file to write processed transcript\r\n",
    "\r\n",
    "        Returns:\r\n",
    "            None\r\n",
    "    '''\r\n",
    "    file_lines = []\r\n",
    "\r\n",
    "    for file in list_files: # Processes each file in file list\r\n",
    "\r\n",
    "        with open(file, 'r') as in_file:\r\n",
    "            file_lines = in_file.readlines()\r\n",
    "\r\n",
    "        with open(out_file, 'a') as outfile:\r\n",
    "            csv_writer = csv.writer(outfile)\r\n",
    "            file_lines = sorted(file_lines)\r\n",
    "\r\n",
    "            for line in file_lines:\r\n",
    "                line_split = line.split(':')\r\n",
    "\r\n",
    "                # Select session name i.e. (Ses01F_impro01_F000)\r\n",
    "                name = line_split[0].split(' ')[0].strip()\r\n",
    "\r\n",
    "                # Unwanted case\r\n",
    "                if name[:3] != 'Ses':             # noise transcription such as reply  M: sorry\r\n",
    "                    continue\r\n",
    "                elif name[-3:-1] == 'XX':        # we don't have matching pair in label\r\n",
    "                    continue\r\n",
    "                \r\n",
    "                transcript = line_split[1].strip()\r\n",
    "\r\n",
    "                # cnt += 1\r\n",
    "                csv_writer.writerow([name, transcript])\r\n"
   ]
  },
  {
   "cell_type": "code",
   "execution_count": 5,
   "metadata": {},
   "outputs": [
    {
     "name": "stdout",
     "output_type": "stream",
     "text": [
      "Session1, # Num of files: 28\n",
      "Session2, # Num of files: 58\n",
      "Session3, # Num of files: 90\n",
      "Session4, # Num of files: 120\n",
      "Session5, # Num of files: 151\n"
     ]
    }
   ],
   "source": [
    "list_files = []\r\n",
    "\r\n",
    "for x in range(1, 6):\r\n",
    "    sess_title = 'Session' + str(x)\r\n",
    "\r\n",
    "    path = f'./data/raw/IEMOCAP_full_release/{sess_title}/dialog/transcriptions'\r\n",
    "\r\n",
    "    file_search(path, list_files)\r\n",
    "    list_files = sorted(list_files)\r\n",
    "\r\n",
    "    print(f\"{sess_title}, # Num of files: {len(list_files)}\")\r\n",
    "\r\n",
    "extract_transcript(list_files, out_file)\r\n"
   ]
  },
  {
   "cell_type": "markdown",
   "metadata": {},
   "source": [
    "## 2 - Extract Label"
   ]
  },
  {
   "cell_type": "code",
   "execution_count": 6,
   "metadata": {},
   "outputs": [
    {
     "data": {
      "text/plain": "1"
     },
     "execution_count": 6,
     "metadata": {},
     "output_type": "execute_result"
    }
   ],
   "source": [
    "out_file = '../My Project/data/processed/IEMOCAP/label.csv'\r\n",
    "os.system('rm ' + out_file)  # Remove out file if it exists\r\n"
   ]
  },
  {
   "cell_type": "code",
   "execution_count": 7,
   "metadata": {},
   "outputs": [],
   "source": [
    "category_list = ['ang', 'hap', 'sad', 'neu', 'fru', 'exc', 'fea', 'sur', 'dis', 'oth', 'xxx']\r\n",
    "category = {}\r\n",
    "\r\n",
    "for cat_type in category_list:\r\n",
    "    if cat_type in category:\r\n",
    "        continue\r\n",
    "    else:\r\n",
    "        category[cat_type] = len(category)\r\n"
   ]
  },
  {
   "cell_type": "code",
   "execution_count": 8,
   "metadata": {},
   "outputs": [],
   "source": [
    "def find_category(lines):\r\n",
    "    '''\r\n",
    "    Find ground truth category for each session recording in txt file.\r\n",
    "\r\n",
    "        Parameters:\r\n",
    "            lines (list): Lines extracted from each sessions Emoevaluation txt file\r\n",
    "\r\n",
    "        Returns:\r\n",
    "            cat_emo_list (list): List contains each Session name with groud-truth emotion \\\r\n",
    "                i.e. [['Ses01F_impro01_F000, 'neu']]\r\n",
    "\r\n",
    "    '''\r\n",
    "    cat_emo_list = []\r\n",
    "    is_target_line = True\r\n",
    "\r\n",
    "    for line in lines:\r\n",
    "\r\n",
    "        # Check if line is in format --> [START_TIME - END_TIME] TURN_NAME EMOTION [V, A, D]\r\n",
    "        if is_target_line == True:\r\n",
    "\r\n",
    "            try:\r\n",
    "                line_split = line.split('\\t')\r\n",
    "\r\n",
    "                session_id = line_split[1].strip()\r\n",
    "                cat_label = line_split[2].strip()\r\n",
    "\r\n",
    "                if cat_label not in category:  # Confirm cat_label is in category dictionary\r\n",
    "                    print(f'Invalid key --> {cat_label}')\r\n",
    "                    sys.exit()  # Exit script\r\n",
    "\r\n",
    "                cat_emo_list.append([session_id, cat_label])\r\n",
    "                is_target_line = False  # Subsequent lines are not target line i.e. C-E2:\tNeutral;\t()\r\n",
    "\r\n",
    "            except:\r\n",
    "                print(f'ERROR --> {line}')  # Error encontered on line\r\n",
    "                sys.exit()\r\n",
    "\r\n",
    "        else:\r\n",
    "            if line == '\\n':\r\n",
    "                is_target_line = True\r\n",
    "\r\n",
    "    return cat_emo_list\r\n"
   ]
  },
  {
   "cell_type": "code",
   "execution_count": 9,
   "metadata": {},
   "outputs": [],
   "source": [
    "def extract_labels(list_files, out_file):\r\n",
    "    '''\r\n",
    "    Extracts transcript for each uniques session.\r\n",
    "\r\n",
    "        Parameters:\r\n",
    "            list_files (list): A list of files (with fullnames) to process transcript\r\n",
    "            out_file (string): Out file to write processed transcript\r\n",
    "\r\n",
    "        Returns:\r\n",
    "            None\r\n",
    "    '''\r\n",
    "    lines = []\r\n",
    "    \r\n",
    "    for file in list_files:\r\n",
    "\r\n",
    "        with open(file, 'r') as in_file:\r\n",
    "            lines = in_file.readlines()\r\n",
    "\r\n",
    "            # Remove header --> '% [START_TIME - END_TIME] TURN_NAME EMOTION [V, A, D]'\r\n",
    "            lines = lines[2:]\r\n",
    "            cat_emo_list = find_category(lines)\r\n",
    "\r\n",
    "        cat_emo_list.sort()\r\n",
    "\r\n",
    "        with open(out_file, 'a') as outfile:\r\n",
    "            csv_writer = csv.writer(outfile)\r\n",
    "            csv_writer.writerows(cat_emo_list)\r\n"
   ]
  },
  {
   "cell_type": "code",
   "execution_count": 10,
   "metadata": {},
   "outputs": [
    {
     "name": "stdout",
     "output_type": "stream",
     "text": [
      "Session1, # Num of files: 28\n",
      "Session2, # Num of files: 58\n",
      "Session3, # Num of files: 90\n",
      "Session4, # Num of files: 120\n",
      "Session5, # Num of files: 151\n"
     ]
    }
   ],
   "source": [
    "list_files = []\r\n",
    "skip_dir = ['Attribute', 'Categorical', 'Self-evaluation']\r\n",
    "\r\n",
    "for x in range(1, 6):\r\n",
    "    sess_title = 'Session' + str(x)\r\n",
    "\r\n",
    "    path = f'./data/raw/IEMOCAP_full_release/{sess_title}/dialog/EmoEvaluation/'\r\n",
    "    file_search(path, list_files, skip_dir)\r\n",
    "    list_files.sort()\r\n",
    "\r\n",
    "    print(f\"{sess_title}, # Num of files: {len(list_files)}\")\r\n",
    "\r\n",
    "extract_labels(list_files, out_file)\r\n"
   ]
  }
 ],
 "metadata": {
  "kernelspec": {
   "display_name": "Python 3.8.3 64-bit",
   "name": "python383jvsc74a57bd09ce43836c8d3287a06e199a1efd6974587c1d8c7cdf961feda0708cd09e2869c"
  },
  "language_info": {
   "name": "python",
   "version": ""
  },
  "orig_nbformat": 3
 },
 "nbformat": 4,
 "nbformat_minor": 4
}