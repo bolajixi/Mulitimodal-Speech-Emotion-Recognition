{
 "cells": [
  {
   "cell_type": "markdown",
   "metadata": {},
   "source": [
    "# Get vocab from transcription"
   ]
  },
  {
   "cell_type": "markdown",
   "metadata": {},
   "source": [
    "## Create nocabulary from transcription"
   ]
  },
  {
   "cell_type": "code",
   "execution_count": null,
   "metadata": {},
   "outputs": [],
   "source": [
    "import tensorflow as tf\r\n",
    "from tensorflow import keras\r\n",
    "from tensorflow.keras.preprocessing.text import Tokenizer\r\n",
    "from tensorflow.keras.preprocessing.sequence import pad_sequences\r\n",
    "\r\n",
    "from util import *\r\n"
   ]
  },
  {
   "cell_type": "code",
   "execution_count": 2,
   "metadata": {},
   "outputs": [],
   "source": [
    "full_ids = []\r\n",
    "with open('./data/processed/IEMOCAP/processed_ids.txt') as f:\r\n",
    "    full_ids = f.readlines()\r\n",
    "full_ids = [x.strip() for x in full_ids]\r\n"
   ]
  },
  {
   "cell_type": "code",
   "execution_count": null,
   "metadata": {},
   "outputs": [],
   "source": [
    "print(full_ids)"
   ]
  },
  {
   "cell_type": "code",
   "execution_count": 3,
   "metadata": {},
   "outputs": [],
   "source": [
    "sentences = []\r\n",
    "for file_id in full_ids:\r\n",
    "    for line in csv_reader('./data/processed/IEMOCAP/processed_tran.csv'):\r\n",
    "        file_line = line.strip().split(',')\r\n",
    "        if line != '\\n' and (file_id == file_line[0]):\r\n",
    "            sentences.append(file_line[1])\r\n"
   ]
  },
  {
   "cell_type": "code",
   "execution_count": 6,
   "metadata": {},
   "outputs": [
    {
     "name": "stdout",
     "output_type": "stream",
     "text": [
      "9821\n"
     ]
    }
   ],
   "source": [
    "print(len(sentences))"
   ]
  },
  {
   "cell_type": "code",
   "execution_count": 4,
   "metadata": {},
   "outputs": [],
   "source": [
    "tokenizer = Tokenizer(oov_token='<oov>')\r\n",
    "tokenizer.fit_on_texts(sentences)\r\n",
    "word_index = tokenizer.word_index\r\n",
    "\r\n",
    "sequences = tokenizer.texts_to_sequences(sentences)\r\n",
    "padded = pad_sequences(sequences, padding='post')\r\n"
   ]
  },
  {
   "cell_type": "code",
   "execution_count": 6,
   "metadata": {},
   "outputs": [
    {
     "name": "stdout",
     "output_type": "stream",
     "text": [
      "Number of words found --> 2741\n"
     ]
    }
   ],
   "source": [
    "print('Number of words found -->', len(word_index))"
   ]
  },
  {
   "cell_type": "code",
   "execution_count": 7,
   "metadata": {},
   "outputs": [
    {
     "name": "stdout",
     "output_type": "stream",
     "text": [
      "Padded Sequences:\n",
      "[[ 710   21    0 ...    0    0    0]\n",
      " [  29    0    0 ...    0    0    0]\n",
      " [  16   61    7 ...    0    0    0]\n",
      " ...\n",
      " [ 342   18    0 ...    0    0    0]\n",
      " [  31  190    3 ...    0    0    0]\n",
      " [  43    7 1788 ...    0    0    0]]\n"
     ]
    }
   ],
   "source": [
    "print('Padded Sequences:')\r\n",
    "print(padded)"
   ]
  },
  {
   "cell_type": "code",
   "execution_count": 8,
   "metadata": {},
   "outputs": [
    {
     "name": "stdout",
     "output_type": "stream",
     "text": [
      "(17908, 98)\n"
     ]
    }
   ],
   "source": [
    "print(padded.shape)"
   ]
  },
  {
   "cell_type": "code",
   "execution_count": null,
   "metadata": {},
   "outputs": [],
   "source": []
  }
 ],
 "metadata": {
  "kernelspec": {
   "display_name": "Python 3.7.6 64-bit ('base': conda)",
   "name": "python376jvsc74a57bd0c5e48f84046969b800ff52f6d80523bcd1ca3fb1a99f1449e4197bf6c73dc096"
  },
  "language_info": {
   "codemirror_mode": {
    "name": "ipython",
    "version": 3
   },
   "file_extension": ".py",
   "mimetype": "text/x-python",
   "name": "python",
   "nbconvert_exporter": "python",
   "pygments_lexer": "ipython3",
   "version": "3.7.6"
  },
  "orig_nbformat": 2
 },
 "nbformat": 4,
 "nbformat_minor": 2
}