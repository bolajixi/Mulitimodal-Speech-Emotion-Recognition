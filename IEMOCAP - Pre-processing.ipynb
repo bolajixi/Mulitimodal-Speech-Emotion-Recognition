{
 "cells": [
  {
   "cell_type": "markdown",
   "metadata": {},
   "source": [
    "## Extract Label Transcript"
   ]
  },
  {
   "cell_type": "code",
   "execution_count": 1,
   "metadata": {},
   "outputs": [],
   "source": [
    "import os\r\n",
    "import csv\r\n",
    "from util import *"
   ]
  },
  {
   "cell_type": "code",
   "execution_count": 2,
   "metadata": {},
   "outputs": [],
   "source": [
    "create_folder('../My Project/data/processed/IEMOCAP')\r\n"
   ]
  },
  {
   "cell_type": "code",
   "execution_count": 3,
   "metadata": {},
   "outputs": [
    {
     "data": {
      "text/plain": "1"
     },
     "execution_count": 3,
     "metadata": {},
     "output_type": "execute_result"
    }
   ],
   "source": [
    "out_file = '../My Project/data/processed/IEMOCAP/processed_tran.csv'\r\n",
    "os.system('rm ' + out_file)\r\n"
   ]
  },
  {
   "cell_type": "code",
   "execution_count": 4,
   "metadata": {},
   "outputs": [],
   "source": [
    "def extract_transcript(list_files, out_file):\r\n",
    "    '''\r\n",
    "    Extracts transcript for each uniques session\r\n",
    "\r\n",
    "        Parameters:\r\n",
    "            list_files (list): A list of files (with fullnames) to process transcript\r\n",
    "            out_file (string): Out file to write processed transcript\r\n",
    "\r\n",
    "        Returns:\r\n",
    "            None\r\n",
    "    '''\r\n",
    "    file_lines = []\r\n",
    "\r\n",
    "    for file in list_files: # Processes each file in file list\r\n",
    "\r\n",
    "        with open(file, 'r') as in_file:\r\n",
    "            file_lines = in_file.readlines()\r\n",
    "\r\n",
    "        with open(out_file, 'a') as outfile:\r\n",
    "            csv_writer = csv.writer(outfile)\r\n",
    "            file_lines = sorted(file_lines)\r\n",
    "\r\n",
    "            for line in file_lines:\r\n",
    "                line_split = line.split(':')\r\n",
    "\r\n",
    "                # Select session name i.e. (Ses01F_impro01_F000)\r\n",
    "                name = line_split[0].split(' ')[0].strip()\r\n",
    "\r\n",
    "                # unwanted case\r\n",
    "                if name[:3] != 'Ses':             # noise transcription such as reply  M: sorry\r\n",
    "                    continue\r\n",
    "                elif name[-3:-1] == 'XX':        # we don't have matching pair in label\r\n",
    "                    continue\r\n",
    "                \r\n",
    "                transcript = line_split[1].strip()\r\n",
    "\r\n",
    "                # cnt += 1\r\n",
    "                csv_writer.writerow([name, transcript])\r\n"
   ]
  },
  {
   "cell_type": "code",
   "execution_count": 5,
   "metadata": {},
   "outputs": [
    {
     "name": "stdout",
     "output_type": "stream",
     "text": [
      "Session1, # Num of files: 28\n",
      "Session2, # Num of files: 58\n",
      "Session3, # Num of files: 90\n",
      "Session4, # Num of files: 120\n",
      "Session5, # Num of files: 151\n"
     ]
    }
   ],
   "source": [
    "list_files = []\r\n",
    "\r\n",
    "for x in range(1, 6):\r\n",
    "    sess_title = 'Session' + str(x)\r\n",
    "\r\n",
    "    path = f'./data/raw/IEMOCAP_full_release/{sess_title}/dialog/transcriptions'\r\n",
    "\r\n",
    "    file_search(path, list_files)\r\n",
    "    list_files = sorted(list_files)\r\n",
    "\r\n",
    "    print(f\"{sess_title}, # Num of files: {len(list_files)}\")\r\n",
    "\r\n",
    "extract_transcript(list_files, out_file)\r\n"
   ]
  },
  {
   "cell_type": "code",
   "execution_count": null,
   "metadata": {},
   "outputs": [],
   "source": []
  }
 ],
 "metadata": {
  "kernelspec": {
   "display_name": "Python 3.8.3 64-bit",
   "name": "python383jvsc74a57bd09ce43836c8d3287a06e199a1efd6974587c1d8c7cdf961feda0708cd09e2869c"
  },
  "language_info": {
   "name": "python",
   "version": ""
  },
  "orig_nbformat": 3
 },
 "nbformat": 4,
 "nbformat_minor": 4
}