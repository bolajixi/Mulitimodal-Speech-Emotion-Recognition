{
 "cells": [
  {
   "cell_type": "code",
   "execution_count": null,
   "metadata": {},
   "outputs": [],
   "source": [
    "full_ids = []\r\n",
    "with open('/content/drive/MyDrive/Colab Notebooks/My Project - SER/data/processed_ids.txt') as f:\r\n",
    "    full_ids = f.readlines()\r\n",
    "full_ids = [x.strip() for x in full_ids]\r\n",
    "\r\n",
    "\r\n",
    "print(f'First five processed ids --> {full_ids[:6]}')\r\n",
    "print(f'Length of processed ids --> {len(full_ids)}')\r\n",
    "\r\n",
    "sentences = []\r\n",
    "for line in csv_reader('/content/drive/MyDrive/Colab Notebooks/My Project - SER/data/processed_tran.csv'):\r\n",
    "    file_line = line.strip().split(',')\r\n",
    "\r\n",
    "    for idx, file_id in enumerate(full_ids):\r\n",
    "        if line != '\\n' and (file_id == file_line[0]):\r\n",
    "            sentences.append(file_line[1:])\r\n",
    "            del full_ids[idx]\r\n",
    "            break\r\n",
    "\r\n",
    "\r\n",
    "print(sentences[:5])\r\n",
    "\r\n",
    "with open('/content/drive/MyDrive/Colab Notebooks/My Project - SER/data/FC_sentences.txt', 'w') as f:\r\n",
    "    for line in sentences:\r\n",
    "        f.write(line+'\\n')\r\n",
    "\r\n",
    "### X --> Sentence to tensor\r\n",
    "\r\n",
    "# # Convert sentences to tensor\r\n",
    "# X = tf.convert_to_tensor(\r\n",
    "#     sentences, dtype='string', name='sentences'\r\n",
    "# )\r\n",
    "\r\n",
    "# Convert sentences to ndarray\r\n",
    "X = np.asarray(sentences)\r\n",
    "\r\n",
    "print(X)\r\n",
    "\r\n",
    "### Y --> Labels to tensor\r\n",
    "\r\n",
    "labels = []\r\n",
    "for line in csv_reader('/content/drive/MyDrive/Colab Notebooks/My Project - SER/data/FC_label.txt'):\r\n",
    "    file_line = line.strip()\r\n",
    "    labels.append(int(file_line))\r\n",
    "\r\n",
    "print(labels[:5])\r\n",
    "\r\n",
    "# # Convert labels to tensor\r\n",
    "# Y = tf.convert_to_tensor(\r\n",
    "#     labels, dtype='int32', name='lables'\r\n",
    "# )\r\n",
    "\r\n",
    "# Convert sentences to ndarray\r\n",
    "Y = np.asarray(labels)\r\n",
    "\r\n",
    "print(Y)\r\n"
   ]
  }
 ],
 "metadata": {
  "interpreter": {
   "hash": "c5e48f84046969b800ff52f6d80523bcd1ca3fb1a99f1449e4197bf6c73dc096"
  },
  "kernelspec": {
   "display_name": "Python 3.7.6 64-bit ('base': conda)",
   "name": "python3"
  },
  "language_info": {
   "name": "python",
   "version": ""
  },
  "orig_nbformat": 4
 },
 "nbformat": 4,
 "nbformat_minor": 2
}