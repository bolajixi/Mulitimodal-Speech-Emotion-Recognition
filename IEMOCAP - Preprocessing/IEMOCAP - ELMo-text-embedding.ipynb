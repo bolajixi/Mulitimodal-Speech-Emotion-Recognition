{
 "cells": [
  {
   "cell_type": "code",
   "execution_count": null,
   "metadata": {},
   "outputs": [],
   "source": [
    "import tensorflow_hub as hub\r\n",
    "import tensorflow as tf\r\n",
    "\r\n",
    "from util import *"
   ]
  },
  {
   "cell_type": "code",
   "execution_count": null,
   "metadata": {},
   "outputs": [],
   "source": [
    "!pip install tensorflow --upgrade"
   ]
  },
  {
   "cell_type": "code",
   "execution_count": null,
   "metadata": {},
   "outputs": [],
   "source": [
    "full_ids = []\r\n",
    "with open('./data/processed/IEMOCAP/processed_ids.txt') as f:\r\n",
    "    full_ids = f.readlines()\r\n",
    "full_ids = [x.strip() for x in full_ids]\r\n"
   ]
  },
  {
   "cell_type": "code",
   "execution_count": null,
   "metadata": {},
   "outputs": [],
   "source": [
    "print(full_ids[:10])"
   ]
  },
  {
   "cell_type": "code",
   "execution_count": null,
   "metadata": {},
   "outputs": [],
   "source": [
    "print(len(full_ids))"
   ]
  },
  {
   "cell_type": "code",
   "execution_count": null,
   "metadata": {},
   "outputs": [],
   "source": [
    "from util import * \r\n",
    "sentences = []\r\n",
    "for line in csv_reader('./data/processed/IEMOCAP/processed_tran.csv'):\r\n",
    "    file_line = line.strip().split(',')\r\n",
    "\r\n",
    "    for idx, file_id in enumerate(full_ids):\r\n",
    "        if line != '\\n' and (file_id == file_line[0]):\r\n",
    "            sentences.append(file_line[1])\r\n",
    "            del full_ids[idx]\r\n",
    "            break\r\n"
   ]
  },
  {
   "cell_type": "markdown",
   "metadata": {},
   "source": [
    "## Configure ELMo"
   ]
  },
  {
   "cell_type": "code",
   "execution_count": null,
   "metadata": {},
   "outputs": [],
   "source": [
    "elmo = hub.Module(\"https://tfhub.dev/google/elmo/3\", trainable=True)\r\n",
    "embeddings = elmo(\r\n",
    "    sentences,\r\n",
    "    signature=\"default\",\r\n",
    "    as_dict=True)[\"elmo\"]\r\n"
   ]
  },
  {
   "cell_type": "code",
   "execution_count": null,
   "metadata": {},
   "outputs": [],
   "source": [
    "with tf.Session() as sess:\r\n",
    "    sess.run(tf.global_variables_initializer())\r\n",
    "    embedding = sess.run(embedding_tensor)\r\n",
    "    print(embedding.shape)\r\n"
   ]
  }
 ],
 "metadata": {
  "kernelspec": {
   "display_name": "Python 3.7.6 64-bit ('base': conda)",
   "name": "python376jvsc74a57bd0c5e48f84046969b800ff52f6d80523bcd1ca3fb1a99f1449e4197bf6c73dc096"
  },
  "language_info": {
   "codemirror_mode": {
    "name": "ipython",
    "version": 3
   },
   "file_extension": ".py",
   "mimetype": "text/x-python",
   "name": "python",
   "nbconvert_exporter": "python",
   "pygments_lexer": "ipython3",
   "version": "3.7.6"
  },
  "orig_nbformat": 2
 },
 "nbformat": 4,
 "nbformat_minor": 2
}