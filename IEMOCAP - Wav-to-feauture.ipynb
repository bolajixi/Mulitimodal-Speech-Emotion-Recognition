{
 "cells": [
  {
   "cell_type": "raw",
   "metadata": {},
   "source": []
  },
  {
   "cell_type": "markdown",
   "metadata": {},
   "source": [
    "# Extract Audio Feautures\n"
   ]
  },
  {
   "cell_type": "code",
   "execution_count": 1,
   "metadata": {},
   "outputs": [],
   "source": [
    "import sys\r\n",
    "import pickle\r\n",
    "\r\n",
    "import numpy as np\r\n",
    "import pandas as pd\r\n",
    "import tensorflow as tf\r\n",
    "from tensorflow.keras.preprocessing.sequence import pad_sequences\r\n",
    "\r\n",
    "\r\n",
    "import audiofile\r\n",
    "import opensmile\r\n",
    "from util import *\r\n"
   ]
  },
  {
   "cell_type": "code",
   "execution_count": 2,
   "metadata": {},
   "outputs": [],
   "source": [
    "pd.set_option('display.max_columns', None)\n"
   ]
  },
  {
   "cell_type": "code",
   "execution_count": 3,
   "metadata": {},
   "outputs": [],
   "source": [
    "def configure_openSmile(**kwargs):\r\n",
    "    '''\r\n",
    "    Configure OpenSmile.\r\n",
    "\r\n",
    "        Parameters:\r\n",
    "            folder_list (list): A list of folder paths to extract features\r\n",
    "\r\n",
    "        Returns:\r\n",
    "            smile (obj): Returns configured smile object\r\n",
    "    '''\r\n",
    "    \r\n",
    "    smile = opensmile.Smile(\r\n",
    "        feature_set=opensmile.FeatureSet.ComParE_2016,\r\n",
    "        feature_level=opensmile.FeatureLevel.LowLevelDescriptors,\r\n",
    "        loglevel=4,\r\n",
    "        logfile='smile.log',\r\n",
    "        verbose=True,\r\n",
    "\r\n",
    "    )\r\n",
    "    return smile\r\n"
   ]
  },
  {
   "cell_type": "code",
   "execution_count": 4,
   "metadata": {},
   "outputs": [],
   "source": [
    "def extract_feautre(folder_list):\n",
    "    '''\n",
    "    Extracts audio feature for each file in file path.\n",
    "\n",
    "        Parameters:\n",
    "            folder_list (list): A list of filepaths to extract audio features\n",
    "\n",
    "        Returns:\n",
    "            features (Dataframe): Extracted features from USC-Iemocap database\n",
    "    '''\n",
    "    \n",
    "    smile = configure_openSmile()\n",
    "    try:\n",
    "        features = smile.process_files(folder_list)\n",
    "        return features\n",
    "\n",
    "    except FileNotFoundError as e:\n",
    "        print(f'Error --> {e}')\n"
   ]
  },
  {
   "cell_type": "code",
   "execution_count": 5,
   "metadata": {},
   "outputs": [],
   "source": [
    "def z_score(df, inplace=False):\r\n",
    "    '''\r\n",
    "    Apply z-score (standardization) to the columns of the database.\r\n",
    "\r\n",
    "        Parameters:\r\n",
    "            df (DataFrame): DataFrame to apply z-score\r\n",
    "            inplace: Modify given DataFrame\r\n",
    "\r\n",
    "        Returns:\r\n",
    "            df (DataFrame): DataFrame with applied z-score\r\n",
    "    '''\r\n",
    "\r\n",
    "    if inplace:\r\n",
    "        df = df.copy()\r\n",
    "        \r\n",
    "    # apply the z-score method\r\n",
    "    for column in df.columns:\r\n",
    "        df[column] = (df[column] - df[column].mean()\r\n",
    "                          ) / df[column].std()\r\n",
    "\r\n",
    "    print('Finished standardizing (z-score) data')\r\n",
    "    return df\r\n"
   ]
  },
  {
   "cell_type": "code",
   "execution_count": 20,
   "metadata": {},
   "outputs": [],
   "source": [
    "def pad_signal_data(signal_sequence, padding='pre'):\r\n",
    "    '''\r\n",
    "    Pad each signal with zeros for eqaul data dimenstions.\r\n",
    "\r\n",
    "        Parameters:\r\n",
    "            signal_sequence (List): Signal list to be padded\r\n",
    "            padding (string):  ('pre' or 'post') pad either before or after each sequence\r\n",
    "\r\n",
    "        Returns:\r\n",
    "            padded (DataFrame): Padded dataframe\r\n",
    "    '''\r\n",
    "\r\n",
    "    # for count, file in enumerate(files_list):\r\n",
    "    #     data_frame = df.loc[file] # Get extracted file feature from DataFrame\r\n",
    "        \r\n",
    "    #     # Max num of signal(rows) extracted is 3409, extend frame by 3409 - len signal\r\n",
    "    #     no_extend_row = 3409 - len(df.loc[file])\r\n",
    "\r\n",
    "    #     arr = pd.DataFrame(\r\n",
    "    #         data=np.zeros((no_extend_row, 65)), \\\r\n",
    "    #         columns=df.columns) # Create dataframe with zeros\r\n",
    "\r\n",
    "    #     # Append to dataframe\r\n",
    "    #     df.loc[file] = pd.concat([data_frame, arr])\r\n",
    "    #     # data_frame.appende(arr, ignore_index=True)\r\n",
    "\r\n",
    "    padded = pad_sequences(signal_sequence, dtype='float64', padding=padding)\r\n",
    "\r\n",
    "        # if count % 1000 == 0:\r\n",
    "        #     print(f'Count{count} -- {len(files_list)}')\r\n",
    "        #     sys.stdout.flush()\r\n",
    "\r\n",
    "    print('Finished padding data')\r\n",
    "    return padded\r\n"
   ]
  },
  {
   "cell_type": "code",
   "execution_count": 10,
   "metadata": {},
   "outputs": [],
   "source": [
    "full_ids = []\r\n",
    "with open('./data/processed/IEMOCAP/processed_ids.txt') as f:\r\n",
    "    full_ids = f.readlines()\r\n",
    "full_ids = [x.strip() for x in full_ids]\r\n"
   ]
  },
  {
   "cell_type": "code",
   "execution_count": 11,
   "metadata": {},
   "outputs": [
    {
     "name": "stdout",
     "output_type": "stream",
     "text": [
      "Session1, # Num of files: 1819\n",
      "Session2, # Num of files: 3630\n",
      "Session3, # Num of files: 5766\n",
      "Session4, # Num of files: 7869\n",
      "Session5, # Num of files: 10039\n"
     ]
    }
   ],
   "source": [
    "list_files = []\r\n",
    "\r\n",
    "for x in range(1, 6):\r\n",
    "    sess_title = 'Session' + str(x)\r\n",
    "\r\n",
    "    path = f'./data/raw/IEMOCAP_full_release/{sess_title}/sentences/wav'\r\n",
    "\r\n",
    "    file_search(path, list_files)\r\n",
    "    list_files = sorted(list_files)\r\n",
    "\r\n",
    "    print(f\"{sess_title}, # Num of files: {len(list_files)}\")\r\n"
   ]
  },
  {
   "cell_type": "markdown",
   "metadata": {},
   "source": [
    "## Get list of filenames in category, (Angry, Happy, Sad, Neutral)"
   ]
  },
  {
   "cell_type": "code",
   "execution_count": 12,
   "metadata": {},
   "outputs": [],
   "source": [
    "full_path = []\r\n",
    "\r\n",
    "for file_ in full_ids:\r\n",
    "    for file2 in list_files:\r\n",
    "        if file_+'.wav' == file2.split('\\\\')[-1]:\r\n",
    "            full_path.append(file2)\r\n",
    "            break\r\n"
   ]
  },
  {
   "cell_type": "code",
   "execution_count": null,
   "metadata": {},
   "outputs": [],
   "source": [
    "print(full_path)"
   ]
  },
  {
   "cell_type": "markdown",
   "metadata": {},
   "source": [
    "## Extract four category feature"
   ]
  },
  {
   "cell_type": "code",
   "execution_count": null,
   "metadata": {},
   "outputs": [],
   "source": [
    "# features = extract_feautre(full_path)\r\n",
    "# features.to_pickle('D:/feat.pk')"
   ]
  },
  {
   "cell_type": "markdown",
   "metadata": {},
   "source": [
    "## Post-processing: Load Pickled feature"
   ]
  },
  {
   "cell_type": "code",
   "execution_count": 15,
   "metadata": {},
   "outputs": [],
   "source": [
    "with open('D:/feat.pk', 'rb') as pickle_file:\n",
    "    data = pickle.load(pickle_file)\n"
   ]
  },
  {
   "cell_type": "code",
   "execution_count": 53,
   "metadata": {},
   "outputs": [
    {
     "name": "stdout",
     "output_type": "stream",
     "text": [
      "5531\n"
     ]
    }
   ],
   "source": [
    "feature = []\r\n",
    "\r\n",
    "for idx, file in enumerate(full_path):\r\n",
    "    feature.append(data.loc[file].values.tolist())\r\n",
    "    # feature.append(data.loc[file].to_numpy())\r\n",
    "\r\n",
    "print(len(feature))\r\n"
   ]
  },
  {
   "cell_type": "code",
   "execution_count": 55,
   "metadata": {},
   "outputs": [
    {
     "ename": "MemoryError",
     "evalue": "Unable to allocate 4.57 GiB for an array with shape (5531, 3409, 65) and data type int32",
     "output_type": "error",
     "traceback": [
      "\u001b[1;31m---------------------------------------------------------------------------\u001b[0m",
      "\u001b[1;31mMemoryError\u001b[0m                               Traceback (most recent call last)",
      "\u001b[1;32m<ipython-input-55-59cd10c5c2ae>\u001b[0m in \u001b[0;36m<module>\u001b[1;34m\u001b[0m\n\u001b[1;32m----> 1\u001b[1;33m \u001b[0mpadded_data\u001b[0m \u001b[1;33m=\u001b[0m \u001b[0mpad_signal_data\u001b[0m\u001b[1;33m(\u001b[0m\u001b[0mfeature\u001b[0m\u001b[1;33m,\u001b[0m \u001b[0mpadding\u001b[0m\u001b[1;33m=\u001b[0m\u001b[1;34m'post'\u001b[0m\u001b[1;33m)\u001b[0m\u001b[1;33m\u001b[0m\u001b[1;33m\u001b[0m\u001b[0m\n\u001b[0m",
      "\u001b[1;32m<ipython-input-20-2364cbcd34ec>\u001b[0m in \u001b[0;36mpad_signal_data\u001b[1;34m(signal_sequence, padding)\u001b[0m\n\u001b[0;32m     25\u001b[0m     \u001b[1;31m#     # data_frame.appende(arr, ignore_index=True)\u001b[0m\u001b[1;33m\u001b[0m\u001b[1;33m\u001b[0m\u001b[1;33m\u001b[0m\u001b[0m\n\u001b[0;32m     26\u001b[0m \u001b[1;33m\u001b[0m\u001b[0m\n\u001b[1;32m---> 27\u001b[1;33m     \u001b[0mpadded\u001b[0m \u001b[1;33m=\u001b[0m \u001b[0mpad_sequences\u001b[0m\u001b[1;33m(\u001b[0m\u001b[0msignal_sequence\u001b[0m\u001b[1;33m,\u001b[0m \u001b[0mpadding\u001b[0m\u001b[1;33m=\u001b[0m\u001b[0mpadding\u001b[0m\u001b[1;33m)\u001b[0m\u001b[1;33m\u001b[0m\u001b[1;33m\u001b[0m\u001b[0m\n\u001b[0m\u001b[0;32m     28\u001b[0m \u001b[1;33m\u001b[0m\u001b[0m\n\u001b[0;32m     29\u001b[0m         \u001b[1;31m# if count % 1000 == 0:\u001b[0m\u001b[1;33m\u001b[0m\u001b[1;33m\u001b[0m\u001b[1;33m\u001b[0m\u001b[0m\n",
      "\u001b[1;32m~\\anaconda3\\lib\\site-packages\\keras_preprocessing\\sequence.py\u001b[0m in \u001b[0;36mpad_sequences\u001b[1;34m(sequences, maxlen, dtype, padding, truncating, value)\u001b[0m\n\u001b[0;32m     83\u001b[0m                          .format(dtype, type(value)))\n\u001b[0;32m     84\u001b[0m \u001b[1;33m\u001b[0m\u001b[0m\n\u001b[1;32m---> 85\u001b[1;33m     \u001b[0mx\u001b[0m \u001b[1;33m=\u001b[0m \u001b[0mnp\u001b[0m\u001b[1;33m.\u001b[0m\u001b[0mfull\u001b[0m\u001b[1;33m(\u001b[0m\u001b[1;33m(\u001b[0m\u001b[0mnum_samples\u001b[0m\u001b[1;33m,\u001b[0m \u001b[0mmaxlen\u001b[0m\u001b[1;33m)\u001b[0m \u001b[1;33m+\u001b[0m \u001b[0msample_shape\u001b[0m\u001b[1;33m,\u001b[0m \u001b[0mvalue\u001b[0m\u001b[1;33m,\u001b[0m \u001b[0mdtype\u001b[0m\u001b[1;33m=\u001b[0m\u001b[0mdtype\u001b[0m\u001b[1;33m)\u001b[0m\u001b[1;33m\u001b[0m\u001b[1;33m\u001b[0m\u001b[0m\n\u001b[0m\u001b[0;32m     86\u001b[0m     \u001b[1;32mfor\u001b[0m \u001b[0midx\u001b[0m\u001b[1;33m,\u001b[0m \u001b[0ms\u001b[0m \u001b[1;32min\u001b[0m \u001b[0menumerate\u001b[0m\u001b[1;33m(\u001b[0m\u001b[0msequences\u001b[0m\u001b[1;33m)\u001b[0m\u001b[1;33m:\u001b[0m\u001b[1;33m\u001b[0m\u001b[1;33m\u001b[0m\u001b[0m\n\u001b[0;32m     87\u001b[0m         \u001b[1;32mif\u001b[0m \u001b[1;32mnot\u001b[0m \u001b[0mlen\u001b[0m\u001b[1;33m(\u001b[0m\u001b[0ms\u001b[0m\u001b[1;33m)\u001b[0m\u001b[1;33m:\u001b[0m\u001b[1;33m\u001b[0m\u001b[1;33m\u001b[0m\u001b[0m\n",
      "\u001b[1;32m~\\anaconda3\\lib\\site-packages\\numpy\\core\\numeric.py\u001b[0m in \u001b[0;36mfull\u001b[1;34m(shape, fill_value, dtype, order)\u001b[0m\n\u001b[0;32m    323\u001b[0m     \u001b[1;32mif\u001b[0m \u001b[0mdtype\u001b[0m \u001b[1;32mis\u001b[0m \u001b[1;32mNone\u001b[0m\u001b[1;33m:\u001b[0m\u001b[1;33m\u001b[0m\u001b[1;33m\u001b[0m\u001b[0m\n\u001b[0;32m    324\u001b[0m         \u001b[0mdtype\u001b[0m \u001b[1;33m=\u001b[0m \u001b[0marray\u001b[0m\u001b[1;33m(\u001b[0m\u001b[0mfill_value\u001b[0m\u001b[1;33m)\u001b[0m\u001b[1;33m.\u001b[0m\u001b[0mdtype\u001b[0m\u001b[1;33m\u001b[0m\u001b[1;33m\u001b[0m\u001b[0m\n\u001b[1;32m--> 325\u001b[1;33m     \u001b[0ma\u001b[0m \u001b[1;33m=\u001b[0m \u001b[0mempty\u001b[0m\u001b[1;33m(\u001b[0m\u001b[0mshape\u001b[0m\u001b[1;33m,\u001b[0m \u001b[0mdtype\u001b[0m\u001b[1;33m,\u001b[0m \u001b[0morder\u001b[0m\u001b[1;33m)\u001b[0m\u001b[1;33m\u001b[0m\u001b[1;33m\u001b[0m\u001b[0m\n\u001b[0m\u001b[0;32m    326\u001b[0m     \u001b[0mmultiarray\u001b[0m\u001b[1;33m.\u001b[0m\u001b[0mcopyto\u001b[0m\u001b[1;33m(\u001b[0m\u001b[0ma\u001b[0m\u001b[1;33m,\u001b[0m \u001b[0mfill_value\u001b[0m\u001b[1;33m,\u001b[0m \u001b[0mcasting\u001b[0m\u001b[1;33m=\u001b[0m\u001b[1;34m'unsafe'\u001b[0m\u001b[1;33m)\u001b[0m\u001b[1;33m\u001b[0m\u001b[1;33m\u001b[0m\u001b[0m\n\u001b[0;32m    327\u001b[0m     \u001b[1;32mreturn\u001b[0m \u001b[0ma\u001b[0m\u001b[1;33m\u001b[0m\u001b[1;33m\u001b[0m\u001b[0m\n",
      "\u001b[1;31mMemoryError\u001b[0m: Unable to allocate 4.57 GiB for an array with shape (5531, 3409, 65) and data type int32"
     ]
    }
   ],
   "source": [
    "padded_data = pad_signal_data(feature, padding='post')"
   ]
  },
  {
   "cell_type": "code",
   "execution_count": 26,
   "metadata": {},
   "outputs": [
    {
     "name": "stdout",
     "output_type": "stream",
     "text": [
      "(5531, 3409, 65)\n"
     ]
    }
   ],
   "source": [
    "print(padded_data.shape)"
   ]
  },
  {
   "cell_type": "code",
   "execution_count": 35,
   "metadata": {},
   "outputs": [
    {
     "data": {
      "text/plain": "array([     0,      0,      0,      0,      0,   -100,      0,      0,\n            0,      0,      0,      0,      0,      0,      0,      0,\n            0,      0,      0,      1,      1,      1,      1,      1,\n            1,      1,      1,      1,      1,      1,      1,      1,\n            1,      0,      0,      0,      0,      0,    197,    375,\n          447,   1125,      0,    553,      4, 595613,      3,     16,\n            0,      0,      0,     21,     -4,     16,    -16,     11,\n          -12,     10,    -20,     -1,      4,     18,      3,     20,\n            7])"
     },
     "execution_count": 35,
     "metadata": {},
     "output_type": "execute_result"
    }
   ],
   "source": [
    "padded_data[0][0]"
   ]
  },
  {
   "cell_type": "code",
   "execution_count": null,
   "metadata": {},
   "outputs": [],
   "source": [
    "full_cat_label = []\r\n",
    "with open('./data/processed/IEMOCAP/processed_label.txt') as f:\r\n",
    "    full_cat_label = f.readlines()\r\n",
    "full_cat_label = [x.strip() for x in full_cat_label]\r\n"
   ]
  },
  {
   "cell_type": "markdown",
   "metadata": {},
   "source": [
    "## lll"
   ]
  },
  {
   "cell_type": "code",
   "execution_count": 13,
   "metadata": {},
   "outputs": [],
   "source": [
    "label_data = []\r\n",
    "with open('./data/processed/IEMOCAP/processed_label.txt') as f:\r\n",
    "    label_data = f.readlines()\r\n",
    "\r\n",
    "with open('./data/processed/IEMOCAP/FC_label.txt', 'w') as f:\r\n",
    "    for i, label in enumerate(full_cat_label):\r\n",
    "        if label != '-1':\r\n",
    "            f.write(label_data[i])\r\n"
   ]
  },
  {
   "cell_type": "code",
   "execution_count": null,
   "metadata": {},
   "outputs": [],
   "source": [
    "data_norm = z_score(padded_data)\r\n",
    "save_as_pickle('D:/feature_z_score.pkl', data_norm)\r\n"
   ]
  },
  {
   "cell_type": "code",
   "execution_count": null,
   "metadata": {},
   "outputs": [],
   "source": [
    "with open('list_feat.pkl', 'wb') as f:\r\n",
    "    pickle.dump(feature, f)\r\n"
   ]
  },
  {
   "cell_type": "markdown",
   "metadata": {},
   "source": [
    "## Save numpy values in file"
   ]
  },
  {
   "cell_type": "code",
   "execution_count": null,
   "metadata": {},
   "outputs": [],
   "source": [
    "# np.save('D:/Features.npy', data.values)"
   ]
  }
 ],
 "metadata": {
  "kernelspec": {
   "display_name": "Python 3.8.3 64-bit",
   "name": "python383jvsc74a57bd09ce43836c8d3287a06e199a1efd6974587c1d8c7cdf961feda0708cd09e2869c"
  },
  "language_info": {
   "name": "python",
   "version": ""
  },
  "orig_nbformat": 3
 },
 "nbformat": 4,
 "nbformat_minor": 2
}